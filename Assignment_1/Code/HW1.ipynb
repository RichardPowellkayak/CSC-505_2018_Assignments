{
 "cells": [
  {
   "cell_type": "code",
   "execution_count": 3,
   "metadata": {},
   "outputs": [
    {
     "data": {
      "text/plain": [
       "[[['Daniel Wingo', '804939'],\n",
       "  ['Shiyang Xiao', '718927'],\n",
       "  ['Garrett Mostella', '665278'],\n",
       "  ['Justin Oakley', '201430']],\n",
       " [['Syed Ahzaz Shah', '492924'],\n",
       "  ['Mouna Kalidindi', '540365'],\n",
       "  ['Evan Crabtree', '90387'],\n",
       "  ['Gregory Purvine', '94877']],\n",
       " [['Saed Sayedahmed', '662179'],\n",
       "  ['Richard Powell', '838561'],\n",
       "  ['Blair Gentry', '289174'],\n",
       "  ['Hao Zhang', '52621']],\n",
       " [['Evan Rhoades', '879020'],\n",
       "  ['Logan Hornbuckle', '668967'],\n",
       "  ['Maclean Frazier', '919611'],\n",
       "  ['Charles Stamey', '42604']],\n",
       " [['Jonathan Langston', '115719'],\n",
       "  ['Hadi Soufi', '756405'],\n",
       "  ['Kevin Keomalaythong', '130722'],\n",
       "  ['Luke Davis', '812917']],\n",
       " [['Matthew Smitherman', '116847'],\n",
       "  ['Bety Rostandy', '88452'],\n",
       "  ['Bhavana Yennam', '91253'],\n",
       "  ['Phillip Jones', '342206']],\n",
       " [['Linh Tran', '689359'],\n",
       "  ['Eury Kim', '682504'],\n",
       "  ['Rohit Gulia', '718591'],\n",
       "  ['darpan Jhawar', '166174']],\n",
       " [['Thien Le', '238467'],\n",
       "  ['Spencer Whyatt', '497988'],\n",
       "  ['Oana Dumitrescu', '928538'],\n",
       "  ['Yang Peng', '671702']],\n",
       " [['Cody Cothern', '607252']]]"
      ]
     },
     "execution_count": 3,
     "metadata": {},
     "output_type": "execute_result"
    }
   ],
   "source": [
    "import csv\n",
    "import random\n",
    "list = []\n",
    "with open('C:/Users/ricko/CSC-505_2018_Assignments/Data/student_list.csv', 'r') as CSV:\n",
    "    reader = csv.reader(CSV)\n",
    "    for row in reader:\n",
    "        list.append(row)\n",
    "del list[0]\n",
    "[list[x*4:x*4+4] for x in range(random.shuffle(list) or 9)]"
   ]
  },
  {
   "cell_type": "markdown",
   "metadata": {},
   "source": [
    "Initializes a list with no elements. \n",
    "Opens the student_list.csv and appends it to each row in the list.\n",
    "Deletion of the header of the list which contains student and ID.\n",
    "lists 4 students teams, each randomly selected from the list until you hit 9 teams."
   ]
  },
  {
   "cell_type": "code",
   "execution_count": null,
   "metadata": {},
   "outputs": [],
   "source": []
  }
 ],
 "metadata": {
  "kernelspec": {
   "display_name": "Python 3",
   "language": "python",
   "name": "python3"
  },
  "language_info": {
   "codemirror_mode": {
    "name": "ipython",
    "version": 3
   },
   "file_extension": ".py",
   "mimetype": "text/x-python",
   "name": "python",
   "nbconvert_exporter": "python",
   "pygments_lexer": "ipython3",
   "version": "3.7.0"
  }
 },
 "nbformat": 4,
 "nbformat_minor": 2
}
