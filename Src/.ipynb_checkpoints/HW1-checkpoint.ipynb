{
 "cells": [
  {
   "cell_type": "code",
   "execution_count": 45,
   "metadata": {
    "scrolled": true
   },
   "outputs": [
    {
     "name": "stdout",
     "output_type": "stream",
     "text": [
      "('Cody Cothern', '607252')\n",
      "('Evan Crabtree', '90387')\n",
      "('Luke Davis', '812917')\n",
      "('Oana Dumitrescu', '928538')\n",
      "('Maclean Frazier', '919611')\n",
      "('Blair Gentry', '289174')\n",
      "('Rohit Gulia', '718591')\n",
      "('Logan Hornbuckle', '668967')\n",
      "('darpan Jhawar', '166174')\n",
      "('Phillip Jones', '342206')\n",
      "('Mouna Kalidindi', '540365')\n",
      "('Kevin Keomalaythong', '130722')\n",
      "('Eury Kim', '682504')\n",
      "('Jonathan Langston', '115719')\n",
      "('Thien Le', '238467')\n",
      "('Garrett Mostella', '665278')\n",
      "('Justin Oakley', '201430')\n",
      "('Yang Peng', '671702')\n",
      "('Richard Powell', '838561')\n",
      "('Gregory Purvine', '94877')\n",
      "('Evan Rhoades', '879020')\n",
      "('Bety Rostandy', '88452')\n",
      "('Saed Sayedahmed', '662179')\n",
      "('Syed Ahzaz Shah', '492924')\n",
      "('Matthew Smitherman', '116847')\n",
      "('Hadi Soufi', '756405')\n",
      "('Charles Stamey', '42604')\n",
      "('Linh Tran', '689359')\n",
      "('Spencer Whyatt', '497988')\n",
      "('Daniel Wingo', '804939')\n",
      "('Shiyang Xiao', '718927')\n",
      "('Bhavana Yennam', '91253')\n",
      "('Hao Zhang', '52621')\n"
     ]
    }
   ],
   "source": [
    "import csv\n",
    "import random\n",
    "\n",
    "with open('C:/Users/ricko/CSC-505_2018_Assignments/Data/student_list.csv', 'r') as csvfile:\n",
    "    reader = csv.DictReader(csvfile)\n",
    "    for row in reader:\n",
    "        print(row['Student'], row['Rand_ID'])\n"
   ]
  },
  {
   "cell_type": "markdown",
   "metadata": {},
   "source": []
  },
  {
   "cell_type": "code",
   "execution_count": null,
   "metadata": {},
   "outputs": [],
   "source": []
  },
  {
   "cell_type": "code",
   "execution_count": null,
   "metadata": {},
   "outputs": [],
   "source": []
  }
 ],
 "metadata": {
  "kernelspec": {
   "display_name": "Python 2",
   "language": "python",
   "name": "python2"
  },
  "language_info": {
   "codemirror_mode": {
    "name": "ipython",
    "version": 2
   },
   "file_extension": ".py",
   "mimetype": "text/x-python",
   "name": "python",
   "nbconvert_exporter": "python",
   "pygments_lexer": "ipython2",
   "version": "2.7.15"
  }
 },
 "nbformat": 4,
 "nbformat_minor": 2
}
